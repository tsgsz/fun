{
 "cells": [
  {
   "cell_type": "code",
   "execution_count": 5,
   "metadata": {},
   "outputs": [],
   "source": [
    "import redis"
   ]
  },
  {
   "cell_type": "code",
   "execution_count": 14,
   "metadata": {},
   "outputs": [],
   "source": [
    "redis_proxy = redis.StrictRedis(\n",
    "    host = 'localhost',\n",
    "    port = 6379,\n",
    "    db = 0\n",
    ")"
   ]
  },
  {
   "cell_type": "code",
   "execution_count": 37,
   "metadata": {},
   "outputs": [
    {
     "data": {
      "text/plain": [
       "1"
      ]
     },
     "execution_count": 37,
     "metadata": {},
     "output_type": "execute_result"
    }
   ],
   "source": [
    "redis_proxy.zrem('http', \"{'ip': '58.218.92.129', 'port': 8833, 'expire': '2020-06-03 13:34:02'}\")"
   ]
  },
  {
   "cell_type": "code",
   "execution_count": 18,
   "metadata": {},
   "outputs": [
    {
     "name": "stdout",
     "output_type": "stream",
     "text": [
      "Help on method zadd in module redis.client:\n",
      "\n",
      "zadd(name, mapping, nx=False, xx=False, ch=False, incr=False) method of redis.client.Redis instance\n",
      "    Set any number of element-name, score pairs to the key ``name``. Pairs\n",
      "    are specified as a dict of element-names keys to score values.\n",
      "    \n",
      "    ``nx`` forces ZADD to only create new elements and not to update\n",
      "    scores for elements that already exist.\n",
      "    \n",
      "    ``xx`` forces ZADD to only update scores of elements that already\n",
      "    exist. New elements will not be added.\n",
      "    \n",
      "    ``ch`` modifies the return value to be the numbers of elements changed.\n",
      "    Changed elements include new elements that were added and elements\n",
      "    whose scores changed.\n",
      "    \n",
      "    ``incr`` modifies ZADD to behave like ZINCRBY. In this mode only a\n",
      "    single element/score pair can be specified and the score is the amount\n",
      "    the existing score will be incremented by. When using this mode the\n",
      "    return value of ZADD will be the new score of the element.\n",
      "    \n",
      "    The return value of ZADD varies based on the mode specified. With no\n",
      "    options, ZADD returns the number of new elements added to the sorted\n",
      "    set.\n",
      "\n"
     ]
    }
   ],
   "source": [
    "help(redis_proxy.zadd)"
   ]
  },
  {
   "cell_type": "code",
   "execution_count": 38,
   "metadata": {},
   "outputs": [],
   "source": [
    "from proxies import AutoProxy"
   ]
  },
  {
   "cell_type": "code",
   "execution_count": 39,
   "metadata": {},
   "outputs": [],
   "source": [
    "proxy = AutoProxy()"
   ]
  },
  {
   "cell_type": "code",
   "execution_count": 40,
   "metadata": {},
   "outputs": [
    {
     "data": {
      "text/plain": [
       "('58.218.92.140',\n",
       " 9362,\n",
       " {'ip': '58.218.92.140', 'port': 9362, 'expire': '2020-06-03 17:11:49'})"
      ]
     },
     "execution_count": 40,
     "metadata": {},
     "output_type": "execute_result"
    }
   ],
   "source": [
    "proxy.pool_get_proxy()"
   ]
  },
  {
   "cell_type": "code",
   "execution_count": null,
   "metadata": {},
   "outputs": [],
   "source": []
  }
 ],
 "metadata": {
  "kernelspec": {
   "display_name": "Python 3",
   "language": "python",
   "name": "python3"
  },
  "language_info": {
   "codemirror_mode": {
    "name": "ipython",
    "version": 3
   },
   "file_extension": ".py",
   "mimetype": "text/x-python",
   "name": "python",
   "nbconvert_exporter": "python",
   "pygments_lexer": "ipython3",
   "version": "3.6.9"
  }
 },
 "nbformat": 4,
 "nbformat_minor": 4
}
